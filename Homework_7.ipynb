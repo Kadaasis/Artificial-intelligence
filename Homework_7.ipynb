{
 "cells": [
  {
   "cell_type": "code",
   "execution_count": null,
   "id": "3590ef93",
   "metadata": {},
   "outputs": [],
   "source": [
    "#Вариант 17. Классификатор 1 - Байесовский классификатор; Классификатор 2 - Дерево решений"
   ]
  },
  {
   "cell_type": "code",
   "execution_count": 65,
   "id": "10123fa9",
   "metadata": {},
   "outputs": [],
   "source": [
    "import pandas as pd\n",
    "import numpy as np\n",
    "from sklearn.datasets import load_wine\n",
    "from matplotlib import pyplot as plt\n",
    "wine = load_wine(as_frame=True)"
   ]
  },
  {
   "cell_type": "code",
   "execution_count": 66,
   "id": "204d6f7b",
   "metadata": {},
   "outputs": [],
   "source": [
    "import seaborn as sns\n",
    "#sns.pairplot(wine.frame, hue='target')"
   ]
  },
  {
   "cell_type": "code",
   "execution_count": 67,
   "id": "5b7d8e92",
   "metadata": {},
   "outputs": [],
   "source": [
    "from sklearn.metrics import confusion_matrix\n",
    "from sklearn.metrics import accuracy_score\n",
    "X = wine.data\n",
    "y = wine.target\n",
    "target_names = wine.target_names\n",
    "from sklearn.model_selection import train_test_split\n",
    "x_train, x_test, y_train, y_test = train_test_split(X,y,test_size=0.3,random_state=101)"
   ]
  },
  {
   "cell_type": "code",
   "execution_count": 68,
   "id": "7f38789c",
   "metadata": {},
   "outputs": [
    {
     "data": {
      "text/plain": [
       "0.9444444444444444"
      ]
     },
     "execution_count": 68,
     "metadata": {},
     "output_type": "execute_result"
    }
   ],
   "source": [
    "from sklearn.naive_bayes import GaussianNB\n",
    "\n",
    "model = GaussianNB()\n",
    "model.fit(x_train, y_train)\n",
    "model.score(x_test, y_test)"
   ]
  },
  {
   "cell_type": "code",
   "execution_count": 69,
   "id": "46844c68",
   "metadata": {},
   "outputs": [
    {
     "data": {
      "text/plain": [
       "0.9259259259259259"
      ]
     },
     "execution_count": 69,
     "metadata": {},
     "output_type": "execute_result"
    }
   ],
   "source": [
    "from sklearn import tree\n",
    "\n",
    "model = tree.DecisionTreeClassifier()\n",
    "model.fit(x_train, y_train)\n",
    "model.score(x_test, y_test)"
   ]
  },
  {
   "cell_type": "code",
   "execution_count": null,
   "id": "1b5b93a7",
   "metadata": {},
   "outputs": [],
   "source": [
    "'''\n",
    "    В данном случае Байесовский классификатор выйграл у деревья решений в том, что в данном случае набор данных \n",
    "    имеет большое кол-во данных. Байесовский классификатор как классификатор является одним из самых быстрых и \n",
    "    производительным, т.к. использует логисическую регрессию. Также ему требуется меньше данных для обучения.\n",
    "    \n",
    "    В свою очередь деревья являются графически понятным для человека классификатором, но в нашем случае, у нас \n",
    "    имеется большое кол-во данных, что ведёт к высокому дереву, которое будет обрезаться. \n",
    "    Также деревья игнорируют корреляции между атрибутами в наборе данных, что влияет на точность вычислений.\n",
    "'''"
   ]
  }
 ],
 "metadata": {
  "kernelspec": {
   "display_name": "Python 3",
   "language": "python",
   "name": "python3"
  },
  "language_info": {
   "codemirror_mode": {
    "name": "ipython",
    "version": 3
   },
   "file_extension": ".py",
   "mimetype": "text/x-python",
   "name": "python",
   "nbconvert_exporter": "python",
   "pygments_lexer": "ipython3",
   "version": "3.8.8"
  }
 },
 "nbformat": 4,
 "nbformat_minor": 5
}
